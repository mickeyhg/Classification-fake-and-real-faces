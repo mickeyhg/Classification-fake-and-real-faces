{
 "cells": [
  {
   "cell_type": "code",
   "execution_count": null,
   "id": "8db57c66",
   "metadata": {},
   "outputs": [],
   "source": [
    "import numpy as np\n",
    "import pandas as pd\n",
    "import cv2\n",
    "import matplotlib.pyplot as plt\n",
    "import os\n",
    "from tensorflow import keras\n",
    "from sklearn.model_selection import train_test_split"
   ]
  },
  {
   "cell_type": "code",
   "execution_count": null,
   "id": "6d3dc02b",
   "metadata": {},
   "outputs": [],
   "source": [
    "DATADIR = r'/content/data256/train'\n",
    "CATEGORIES = [0, 1]\n",
    "SIZE = 256\n",
    "\n",
    "labels = pd.read_csv(r'/content/drive/MyDrive/train.csv')\n",
    "\n",
    "X = []\n",
    "y = []\n",
    "files_array = []\n",
    "def creating_training_dataset(X,y,DATADIR, labels, SIZE):\n",
    "    path = os.path.join(DATADIR)\n",
    "    for img in os.listdir(path):\n",
    "        img_array = cv2.imread(os.path.join(path,img))\n",
    "        img_array = cv2.resize(img_array, (SIZE, SIZE))\n",
    "        img_array = cv2.cvtColor(img_array, cv2.COLOR_BGR2RGB)\n",
    "        class_num = int(labels['label'][labels[labels['name']==img].index.values])\n",
    "        index_in_table = labels.index[labels['name'] == img] + 2\n",
    "#         rotate = random.randint(-45, 45)\n",
    "#         img_array = img_array.rotate(rotate, expand=False) \n",
    "        X.append(img_array)\n",
    "        y.append(class_num)\n",
    "        files_array.append(img)\n",
    "#         plt.imshow(img_array)\n",
    "#         plt.show()\n",
    "#         break\n",
    "    print(len(X))\n",
    "    print(len(y))\n",
    "    \n",
    "creating_training_dataset(X,y,DATADIR, labels, SIZE)"
   ]
  },
  {
   "cell_type": "code",
   "execution_count": null,
   "id": "e9843e1b",
   "metadata": {},
   "outputs": [],
   "source": [
    "X = np.array(X).reshape(-1, SIZE, SIZE, 3)\n",
    "y = np.array(y)\n",
    "\n",
    "X, X_test, y, y_test = train_test_split(X, y, test_size=0.1)"
   ]
  },
  {
   "cell_type": "code",
   "execution_count": null,
   "id": "bd43a3e9",
   "metadata": {},
   "outputs": [],
   "source": [
    "model_ResNet50 = keras.applications.ResNet50(input_shape=(SIZE, SIZE, 3), weights='ImageNet', include_top=True)\n",
    "\n",
    "\n",
    "x = model_ResNet50.output\n",
    "x = keras.layers.Dense(2, activation='softmax')(x)\n",
    "\n",
    "model_ResNet50 = keras.Model(model_ResNet50.input, x)\n",
    "model_ResNet50.compile(loss='sparse_categorical_crossentropy',\n",
    "                  optimizer='adam',\n",
    "                  metrics=['accuracy'])\n",
    "model_ResNet50.summary()"
   ]
  },
  {
   "cell_type": "code",
   "execution_count": null,
   "id": "8a4f2ec0",
   "metadata": {},
   "outputs": [],
   "source": [
    "updatedModel.fit(X,y, epochs=10)"
   ]
  },
  {
   "cell_type": "code",
   "execution_count": null,
   "id": "04564f95",
   "metadata": {},
   "outputs": [],
   "source": [
    "PREDICTDATADIR = '/content/data256/test'\n",
    "X_predict = []\n",
    "predict_names = []\n",
    "path = os.path.join(PREDICTDATADIR)\n",
    "for img in os.listdir(PREDICTDATADIR):\n",
    "    img_array = cv2.imread(os.path.join(path,img))\n",
    "    img_array = cv2.resize(img_array, (SIZE, SIZE))\n",
    "    img_array = cv2.cvtColor(img_array, cv2.COLOR_BGR2RGB)\n",
    "    X_predict.append(img_array)\n",
    "    predict_names.append(img)\n",
    "#     plt.imshow(img_array)\n",
    "#     plt.show()\n",
    "#     break\n",
    "print(len(X_predict))\n",
    "print(len(predict_names))"
   ]
  },
  {
   "cell_type": "code",
   "execution_count": null,
   "id": "c4e45766",
   "metadata": {},
   "outputs": [],
   "source": [
    "X_predict = np.array(X_predict).reshape(-1, SIZE, SIZE, 3)\n",
    "predictions = updatedModel.predict(X_predict)\n",
    "new_predictions = []\n",
    "for i in range(0, len(predictions)):\n",
    "    new_predictions.append(np.argmax(predictions[i]))\n",
    "print(len(predict_names))\n",
    "print(len(predictions))\n",
    "submit_df = pd.DataFrame([[name, pred] for name, pred in zip(predict_names, new_predictions)], columns=['name', 'pred'])\n",
    "print(len(submit_df))\n",
    "\n",
    "submit_df = submit_df.sort_values(['name'])\n",
    "submit_df.to_csv(\"submit.csv\", index=False)\n",
    "submit_df.sample(10)"
   ]
  }
 ],
 "metadata": {
  "kernelspec": {
   "display_name": "Python 3 (ipykernel)",
   "language": "python",
   "name": "python3"
  },
  "language_info": {
   "codemirror_mode": {
    "name": "ipython",
    "version": 3
   },
   "file_extension": ".py",
   "mimetype": "text/x-python",
   "name": "python",
   "nbconvert_exporter": "python",
   "pygments_lexer": "ipython3",
   "version": "3.8.10"
  }
 },
 "nbformat": 4,
 "nbformat_minor": 5
}
